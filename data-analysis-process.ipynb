{
 "cells": [
  {
   "cell_type": "markdown",
   "id": "f6fe1fbf",
   "metadata": {},
   "source": [
    "# UDACITY - Intro to Data Analysis\n",
    "### Data Analysis Process"
   ]
  },
  {
   "cell_type": "code",
   "execution_count": 40,
   "id": "387cdd4d",
   "metadata": {},
   "outputs": [],
   "source": [
    "import csv\n",
    "\n",
    "def read_csv(filename):\n",
    "    with open(filename, newline = '') as f:\n",
    "        reader =  csv.reader(f, delimiter=',')\n",
    "        return list(reader)\n",
    "\n",
    "enrollments = read_csv('data-files/enrollments.csv')\n",
    "daily_engagement = read_csv('data-files/daily_engagement.csv')\n",
    "projects_submissions = read_csv('data-files/project_submissions.csv')"
   ]
  },
  {
   "cell_type": "markdown",
   "id": "8fdac5b5",
   "metadata": {},
   "source": [
    "#### Corrigindo tipo de dados"
   ]
  },
  {
   "cell_type": "code",
   "execution_count": null,
   "id": "9865454c",
   "metadata": {},
   "outputs": [],
   "source": []
  }
 ],
 "metadata": {
  "kernelspec": {
   "display_name": "Python 3 (ipykernel)",
   "language": "python",
   "name": "python3"
  },
  "language_info": {
   "codemirror_mode": {
    "name": "ipython",
    "version": 3
   },
   "file_extension": ".py",
   "mimetype": "text/x-python",
   "name": "python",
   "nbconvert_exporter": "python",
   "pygments_lexer": "ipython3",
   "version": "3.9.13"
  }
 },
 "nbformat": 4,
 "nbformat_minor": 5
}
